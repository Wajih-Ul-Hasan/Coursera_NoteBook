{
 "cells": [
  {
   "cell_type": "markdown",
   "id": "413ea281",
   "metadata": {},
   "source": [
    "<h2>MyNoteBook:<body>"
   ]
  },
  {
   "cell_type": "markdown",
   "id": "75d1015a",
   "metadata": {},
   "source": [
    "<h3>Introduction:</h3><p>In this notebook I implemented the things which <br> I learnt throughout this course</p>"
   ]
  },
  {
   "cell_type": "markdown",
   "id": "323f844d",
   "metadata": {},
   "source": [
    "<h3>DATA SCIENCE LANGUAGES</h3>\n",
    "<ul>\n",
    "<li>Python</li>\n",
    "<li>R-Lan</li>\n",
    "<li>SQL</li>\n",
    "<li>Java</li>\n",
    "<li>Julia</li>\n",
    "<li>Javascript</li>\n",
    "<li>C/C++</li>\n",
    "</ul>"
   ]
  },
  {
   "cell_type": "markdown",
   "id": "16e3c56e",
   "metadata": {},
   "source": [
    "<h3>DATA SCIENCE LIBRARIES:</h3>\n",
    "<ul>\n",
    "<li>Pytorch</li>\n",
    "<li>Keras</li>\n",
    "<li>Numpy</li>\n",
    "<li>Pandas</li>\n",
    "<li>Tenserflow</li>\n",
    "</ul>"
   ]
  },
  {
   "cell_type": "markdown",
   "id": "3c11b649",
   "metadata": {},
   "source": [
    "<h3>DATA SCIENCE TOOLS</h3>\n",
    "<ul>\n",
    "<li>Apache Spark.</li>\n",
    "<li>BigML.</li>\n",
    "<li>D3.</li>\n",
    "<li>MATLAB.</li>\n",
    "<li>Excel.</li>\n",
    "<li>ggplot2.</li>\n",
    "<li>Tableau.</li>\n",
    "</ul>"
   ]
  },
  {
   "cell_type": "markdown",
   "id": "f0f6de20",
   "metadata": {},
   "source": [
    "<h2>ArithMatic Expression in Python:<p style = \"font-size: 15px\"><br>A single mode arithmetic expression is an expression<br>all of whose operands are of the same type</p><p  style=\"font-size:12px\">\n",
    "x = 40\n",
    "<br>y = 12  \n",
    "<br>add = x + y\n",
    "<br>sub = x - y\n",
    "<br>pro = x * y div = x / y\n",
    "</p><h2>\n"
   ]
  },
  {
   "cell_type": "code",
   "execution_count": 4,
   "id": "329790f5",
   "metadata": {},
   "outputs": [
    {
     "name": "stdout",
     "output_type": "stream",
     "text": [
      "Addition is: 30\n",
      "Multiplication is: 200\n"
     ]
    }
   ],
   "source": [
    "#Multiplication and Addition\n",
    "\n",
    "a = 10\n",
    "b = 20\n",
    "\n",
    "print(f\"Addition is: {a+b}\\nMultiplication is: {a*b}\")"
   ]
  },
  {
   "cell_type": "code",
   "execution_count": 6,
   "id": "c46c3395",
   "metadata": {},
   "outputs": [
    {
     "name": "stdout",
     "output_type": "stream",
     "text": [
      "Enter Minutes:45\n",
      "Hours:  0.75\n"
     ]
    }
   ],
   "source": [
    "#Minutes into Hours\n",
    "Min = int(input((\"Enter Minutes:\")))\n",
    "Min_To_Hr = Min / 60\n",
    "print(\"Hours: \", Min_To_Hr)"
   ]
  },
  {
   "cell_type": "markdown",
   "id": "c292d114",
   "metadata": {},
   "source": [
    "<h3>Objectives:</h3>\n",
    "<p style = \"font-size:15px\">I'm not clear what objectives I supposed to write here?</p>"
   ]
  },
  {
   "cell_type": "markdown",
   "id": "8ed40818",
   "metadata": {},
   "source": [
    "<p style = \"font-size: 15px\">Author's Name: Wajih-Ul-Hasan</p>"
   ]
  },
  {
   "cell_type": "code",
   "execution_count": null,
   "id": "a61b3fac",
   "metadata": {},
   "outputs": [],
   "source": []
  }
 ],
 "metadata": {
  "kernelspec": {
   "display_name": "Python 3 (ipykernel)",
   "language": "python",
   "name": "python3"
  },
  "language_info": {
   "codemirror_mode": {
    "name": "ipython",
    "version": 3
   },
   "file_extension": ".py",
   "mimetype": "text/x-python",
   "name": "python",
   "nbconvert_exporter": "python",
   "pygments_lexer": "ipython3",
   "version": "3.9.7"
  }
 },
 "nbformat": 4,
 "nbformat_minor": 5
}
